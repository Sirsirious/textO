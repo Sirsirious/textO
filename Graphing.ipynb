{
 "cells": [
  {
   "cell_type": "code",
   "execution_count": 1,
   "metadata": {},
   "outputs": [],
   "source": [
    "import pandas as pd\n",
    "import numpy as np\n",
    "import nltk\n",
    "from queue import *\n",
    "\n",
    "nodes = pd.read_csv('data/Networks/MilkO/nodes.csv')\n",
    "edges = pd.read_csv('data/Networks/MilkO/edges.csv')"
   ]
  },
  {
   "cell_type": "code",
   "execution_count": 2,
   "metadata": {},
   "outputs": [
    {
     "name": "stdout",
     "output_type": "stream",
     "text": [
      "Pixiedust database opened successfully\n"
     ]
    },
    {
     "data": {
      "text/html": [
       "\n",
       "        <div style=\"margin:10px\">\n",
       "            <a href=\"https://github.com/ibm-watson-data-lab/pixiedust\" target=\"_new\">\n",
       "                <img src=\"https://github.com/ibm-watson-data-lab/pixiedust/raw/master/docs/_static/pd_icon32.png\" style=\"float:left;margin-right:10px\"/>\n",
       "            </a>\n",
       "            <span>Pixiedust version 1.1.15</span>\n",
       "        </div>\n",
       "        "
      ],
      "text/plain": [
       "<IPython.core.display.HTML object>"
      ]
     },
     "metadata": {},
     "output_type": "display_data"
    }
   ],
   "source": [
    "import pixiedust"
   ]
  },
  {
   "cell_type": "code",
   "execution_count": 3,
   "metadata": {},
   "outputs": [],
   "source": [
    "dictionary = set()\n",
    "for index, node in nodes.iterrows():\n",
    "    dictionary.add(node['Label'])"
   ]
  },
  {
   "cell_type": "code",
   "execution_count": 104,
   "metadata": {},
   "outputs": [],
   "source": [
    "graph = {}\n",
    "for index, edge in edges.iterrows():\n",
    "    graph[edge['main']]=[{0}]\n",
    "    for i in range(1, len(edges.columns)):\n",
    "        if(isinstance(edge[i], float)):\n",
    "            break;\n",
    "        else:\n",
    "            graph[edge['main']].append({'term':edge[i],'weight':0})\n",
    "\n",
    "            "
   ]
  },
  {
   "cell_type": "code",
   "execution_count": 103,
   "metadata": {},
   "outputs": [],
   "source": [
    "def processSent(textEntry, graph):\n",
    "    tokenized = map(str.lower, textEntry.split())\n",
    "    traversedList = set()\n",
    "    i = 1\n",
    "    for word in tokenized:\n",
    "        if word in dictionary:\n",
    "            print(i)\n",
    "            graph[word][0]=1\n",
    "            graph, traversedList = spread(word, graph, traversedList, previousScore=1)\n",
    "            i=i+1\n",
    "            return(\"Outside\")\n",
    "    return graph\n",
    "\n",
    "def spread(word, graph, traversedList, previousScore=1, weigth=1, decay=0.2,treshold=0.5):\n",
    "    futureTraversals = Queue()\n",
    "    print('Previ', previousScore, 'Tres', treshold, previousScore>treshold)\n",
    "    if (previousScore > treshold):\n",
    "        for i in range(1, len(graph[word])-1):\n",
    "            if graph[word][i].get('weight')==0:\n",
    "                graph[word][i].update({'weight':previousScore})\n",
    "            graph[word][i].update({'weight':graph[word][i].get('weight')-(weigth*decay)})\n",
    "            if graph[word][i]['term'] not in traversedList:\n",
    "                futureTraversals.put({'term':graph[word][i].get('term'), 'weight':graph[word][i].get('weight')})\n",
    "                traversedList.add(graph[word][i].get('term'))\n",
    "        print(futureTraversals.empty())\n",
    "        if(not futureTraversals.empty()):\n",
    "            for totraverse in iter(futureTraversals.get, None):\n",
    "                graph, traversedList = spread(word=totraverse['term'], graph=graph, traversedList=traversedList, previousScore=totraverse['weight'])\n",
    "                print(\"In and out\")\n",
    "                print(traversedList)\n",
    "    else:\n",
    "        return graph, traversedList\n",
    "    return graph, traversedList\n",
    "\n"
   ]
  },
  {
   "cell_type": "code",
   "execution_count": 105,
   "metadata": {
    "pixiedust": {
     "displayParams": {}
    },
    "scrolled": true
   },
   "outputs": [
    {
     "name": "stdout",
     "output_type": "stream",
     "text": [
      "1\n",
      "Previ 1 Tres 0.5 True\n",
      "False\n",
      "Previ 0.8 Tres 0.5 True\n",
      "True\n",
      "In and out\n",
      "{'leite', 'gir', 'água', 'emagrecer', 'maternidade', 'magro', 'útero', 'pesar', 'gordo', 'instalação', 'parto'}\n",
      "Previ 0.8 Tres 0.5 True\n",
      "True\n",
      "In and out\n",
      "{'leite', 'gir', 'água', 'emagrecer', 'maternidade', 'magro', 'útero', 'pesar', 'gordo', 'instalação', 'parto'}\n",
      "Previ 0.8 Tres 0.5 True\n",
      "True\n",
      "In and out\n",
      "{'leite', 'gir', 'água', 'emagrecer', 'maternidade', 'magro', 'útero', 'pesar', 'gordo', 'instalação', 'parto'}\n",
      "Previ 0.8 Tres 0.5 True\n",
      "True\n",
      "In and out\n",
      "{'leite', 'gir', 'água', 'emagrecer', 'maternidade', 'magro', 'útero', 'pesar', 'gordo', 'instalação', 'parto'}\n",
      "Previ 0.8 Tres 0.5 True\n",
      "False\n",
      "Previ 0.6000000000000001 Tres 0.5 True\n",
      "True\n",
      "In and out\n",
      "{'emagrecer', 'suficiente', 'forragem', 'subterrâneo', 'instalação', 'temperatura', 'leite', 'gir', 'maternidade', 'salobrar', 'pesar', 'consumir', 'parto', 'corporal', 'água', 'magro', 'estrôncio', 'resíduo', 'tóxico', 'perder', 'útero', 'excreção', 'aquífero', 'gordo', 'salinidade'}\n",
      "Previ 0.6000000000000001 Tres 0.5 True\n",
      "True\n",
      "In and out\n",
      "{'emagrecer', 'suficiente', 'forragem', 'subterrâneo', 'instalação', 'temperatura', 'leite', 'gir', 'maternidade', 'salobrar', 'pesar', 'consumir', 'parto', 'corporal', 'água', 'magro', 'estrôncio', 'resíduo', 'tóxico', 'perder', 'útero', 'excreção', 'aquífero', 'gordo', 'salinidade'}\n",
      "Previ 0.6000000000000001 Tres 0.5 True\n",
      "True\n",
      "In and out\n",
      "{'emagrecer', 'suficiente', 'forragem', 'subterrâneo', 'instalação', 'temperatura', 'leite', 'gir', 'maternidade', 'salobrar', 'pesar', 'consumir', 'parto', 'corporal', 'água', 'magro', 'estrôncio', 'resíduo', 'tóxico', 'perder', 'útero', 'excreção', 'aquífero', 'gordo', 'salinidade'}\n",
      "Previ 0.6000000000000001 Tres 0.5 True\n",
      "True\n",
      "In and out\n",
      "{'emagrecer', 'suficiente', 'forragem', 'subterrâneo', 'instalação', 'temperatura', 'leite', 'gir', 'maternidade', 'salobrar', 'pesar', 'consumir', 'parto', 'corporal', 'água', 'magro', 'estrôncio', 'resíduo', 'tóxico', 'perder', 'útero', 'excreção', 'aquífero', 'gordo', 'salinidade'}\n",
      "Previ 0.6000000000000001 Tres 0.5 True\n",
      "True\n",
      "In and out\n",
      "{'emagrecer', 'suficiente', 'forragem', 'subterrâneo', 'instalação', 'temperatura', 'leite', 'gir', 'maternidade', 'salobrar', 'pesar', 'consumir', 'parto', 'corporal', 'água', 'magro', 'estrôncio', 'resíduo', 'tóxico', 'perder', 'útero', 'excreção', 'aquífero', 'gordo', 'salinidade'}\n",
      "Previ 0.6000000000000001 Tres 0.5 True\n",
      "False\n",
      "Previ 0.4000000000000001 Tres 0.5 False\n",
      "In and out\n",
      "{'emagrecer', 'suficiente', 'forragem', 'subterrâneo', 'instalação', 'temperatura', 'leite', 'gir', 'maternidade', 'salobrar', 'pesar', 'consumir', 'parto', 'corporal', 'água', 'magro', 'estrôncio', 'resíduo', 'tóxico', 'perder', 'útero', 'excreção', 'aquífero', 'gordo', 'salinidade', 'solo'}\n"
     ]
    },
    {
     "ename": "KeyboardInterrupt",
     "evalue": "",
     "output_type": "error",
     "traceback": [
      "\u001b[0;31m---------------------------------------------------------------------------\u001b[0m",
      "\u001b[0;31mKeyboardInterrupt\u001b[0m                         Traceback (most recent call last)",
      "\u001b[0;32m<ipython-input-105-d942ea5a6c2e>\u001b[0m in \u001b[0;36m<module>\u001b[0;34m\u001b[0m\n\u001b[1;32m      1\u001b[0m \u001b[0;31m#%%pixie_debugger\u001b[0m\u001b[0;34m\u001b[0m\u001b[0;34m\u001b[0m\u001b[0;34m\u001b[0m\u001b[0m\n\u001b[1;32m      2\u001b[0m \u001b[0mg2\u001b[0m \u001b[0;34m=\u001b[0m \u001b[0mgraph\u001b[0m\u001b[0;34m\u001b[0m\u001b[0;34m\u001b[0m\u001b[0m\n\u001b[0;32m----> 3\u001b[0;31m \u001b[0mg2\u001b[0m \u001b[0;34m=\u001b[0m \u001b[0mprocessSent\u001b[0m\u001b[0;34m(\u001b[0m\u001b[0;34m\"Vaca está bezerro sede\"\u001b[0m\u001b[0;34m,\u001b[0m \u001b[0mg2\u001b[0m\u001b[0;34m)\u001b[0m\u001b[0;34m\u001b[0m\u001b[0;34m\u001b[0m\u001b[0m\n\u001b[0m\u001b[1;32m      4\u001b[0m \u001b[0mprint\u001b[0m\u001b[0;34m(\u001b[0m\u001b[0mg2\u001b[0m\u001b[0;34m[\u001b[0m\u001b[0;34m'vaca'\u001b[0m\u001b[0;34m]\u001b[0m\u001b[0;34m)\u001b[0m\u001b[0;34m\u001b[0m\u001b[0;34m\u001b[0m\u001b[0m\n",
      "\u001b[0;32m<ipython-input-103-d4448c2efeee>\u001b[0m in \u001b[0;36mprocessSent\u001b[0;34m(textEntry, graph)\u001b[0m\n\u001b[1;32m      7\u001b[0m             \u001b[0mprint\u001b[0m\u001b[0;34m(\u001b[0m\u001b[0mi\u001b[0m\u001b[0;34m)\u001b[0m\u001b[0;34m\u001b[0m\u001b[0;34m\u001b[0m\u001b[0m\n\u001b[1;32m      8\u001b[0m             \u001b[0mgraph\u001b[0m\u001b[0;34m[\u001b[0m\u001b[0mword\u001b[0m\u001b[0;34m]\u001b[0m\u001b[0;34m[\u001b[0m\u001b[0;36m0\u001b[0m\u001b[0;34m]\u001b[0m\u001b[0;34m=\u001b[0m\u001b[0;36m1\u001b[0m\u001b[0;34m\u001b[0m\u001b[0;34m\u001b[0m\u001b[0m\n\u001b[0;32m----> 9\u001b[0;31m             \u001b[0mgraph\u001b[0m\u001b[0;34m,\u001b[0m \u001b[0mtraversedList\u001b[0m \u001b[0;34m=\u001b[0m \u001b[0mspread\u001b[0m\u001b[0;34m(\u001b[0m\u001b[0mword\u001b[0m\u001b[0;34m,\u001b[0m \u001b[0mgraph\u001b[0m\u001b[0;34m,\u001b[0m \u001b[0mtraversedList\u001b[0m\u001b[0;34m,\u001b[0m \u001b[0mpreviousScore\u001b[0m\u001b[0;34m=\u001b[0m\u001b[0;36m1\u001b[0m\u001b[0;34m)\u001b[0m\u001b[0;34m\u001b[0m\u001b[0;34m\u001b[0m\u001b[0m\n\u001b[0m\u001b[1;32m     10\u001b[0m             \u001b[0mi\u001b[0m\u001b[0;34m=\u001b[0m\u001b[0mi\u001b[0m\u001b[0;34m+\u001b[0m\u001b[0;36m1\u001b[0m\u001b[0;34m\u001b[0m\u001b[0;34m\u001b[0m\u001b[0m\n\u001b[1;32m     11\u001b[0m             \u001b[0;32mreturn\u001b[0m\u001b[0;34m(\u001b[0m\u001b[0;34m\"Outside\"\u001b[0m\u001b[0;34m)\u001b[0m\u001b[0;34m\u001b[0m\u001b[0;34m\u001b[0m\u001b[0m\n",
      "\u001b[0;32m<ipython-input-103-d4448c2efeee>\u001b[0m in \u001b[0;36mspread\u001b[0;34m(word, graph, traversedList, previousScore, weigth, decay, treshold)\u001b[0m\n\u001b[1;32m     26\u001b[0m         \u001b[0;32mif\u001b[0m\u001b[0;34m(\u001b[0m\u001b[0;32mnot\u001b[0m \u001b[0mfutureTraversals\u001b[0m\u001b[0;34m.\u001b[0m\u001b[0mempty\u001b[0m\u001b[0;34m(\u001b[0m\u001b[0;34m)\u001b[0m\u001b[0;34m)\u001b[0m\u001b[0;34m:\u001b[0m\u001b[0;34m\u001b[0m\u001b[0;34m\u001b[0m\u001b[0m\n\u001b[1;32m     27\u001b[0m             \u001b[0;32mfor\u001b[0m \u001b[0mtotraverse\u001b[0m \u001b[0;32min\u001b[0m \u001b[0miter\u001b[0m\u001b[0;34m(\u001b[0m\u001b[0mfutureTraversals\u001b[0m\u001b[0;34m.\u001b[0m\u001b[0mget\u001b[0m\u001b[0;34m,\u001b[0m \u001b[0;32mNone\u001b[0m\u001b[0;34m)\u001b[0m\u001b[0;34m:\u001b[0m\u001b[0;34m\u001b[0m\u001b[0;34m\u001b[0m\u001b[0m\n\u001b[0;32m---> 28\u001b[0;31m                 \u001b[0mgraph\u001b[0m\u001b[0;34m,\u001b[0m \u001b[0mtraversedList\u001b[0m \u001b[0;34m=\u001b[0m \u001b[0mspread\u001b[0m\u001b[0;34m(\u001b[0m\u001b[0mword\u001b[0m\u001b[0;34m=\u001b[0m\u001b[0mtotraverse\u001b[0m\u001b[0;34m[\u001b[0m\u001b[0;34m'term'\u001b[0m\u001b[0;34m]\u001b[0m\u001b[0;34m,\u001b[0m \u001b[0mgraph\u001b[0m\u001b[0;34m=\u001b[0m\u001b[0mgraph\u001b[0m\u001b[0;34m,\u001b[0m \u001b[0mtraversedList\u001b[0m\u001b[0;34m=\u001b[0m\u001b[0mtraversedList\u001b[0m\u001b[0;34m,\u001b[0m \u001b[0mpreviousScore\u001b[0m\u001b[0;34m=\u001b[0m\u001b[0mtotraverse\u001b[0m\u001b[0;34m[\u001b[0m\u001b[0;34m'weight'\u001b[0m\u001b[0;34m]\u001b[0m\u001b[0;34m)\u001b[0m\u001b[0;34m\u001b[0m\u001b[0;34m\u001b[0m\u001b[0m\n\u001b[0m\u001b[1;32m     29\u001b[0m                 \u001b[0mprint\u001b[0m\u001b[0;34m(\u001b[0m\u001b[0;34m\"In and out\"\u001b[0m\u001b[0;34m)\u001b[0m\u001b[0;34m\u001b[0m\u001b[0;34m\u001b[0m\u001b[0m\n\u001b[1;32m     30\u001b[0m                 \u001b[0mprint\u001b[0m\u001b[0;34m(\u001b[0m\u001b[0mtraversedList\u001b[0m\u001b[0;34m)\u001b[0m\u001b[0;34m\u001b[0m\u001b[0;34m\u001b[0m\u001b[0m\n",
      "\u001b[0;32m<ipython-input-103-d4448c2efeee>\u001b[0m in \u001b[0;36mspread\u001b[0;34m(word, graph, traversedList, previousScore, weigth, decay, treshold)\u001b[0m\n\u001b[1;32m     26\u001b[0m         \u001b[0;32mif\u001b[0m\u001b[0;34m(\u001b[0m\u001b[0;32mnot\u001b[0m \u001b[0mfutureTraversals\u001b[0m\u001b[0;34m.\u001b[0m\u001b[0mempty\u001b[0m\u001b[0;34m(\u001b[0m\u001b[0;34m)\u001b[0m\u001b[0;34m)\u001b[0m\u001b[0;34m:\u001b[0m\u001b[0;34m\u001b[0m\u001b[0;34m\u001b[0m\u001b[0m\n\u001b[1;32m     27\u001b[0m             \u001b[0;32mfor\u001b[0m \u001b[0mtotraverse\u001b[0m \u001b[0;32min\u001b[0m \u001b[0miter\u001b[0m\u001b[0;34m(\u001b[0m\u001b[0mfutureTraversals\u001b[0m\u001b[0;34m.\u001b[0m\u001b[0mget\u001b[0m\u001b[0;34m,\u001b[0m \u001b[0;32mNone\u001b[0m\u001b[0;34m)\u001b[0m\u001b[0;34m:\u001b[0m\u001b[0;34m\u001b[0m\u001b[0;34m\u001b[0m\u001b[0m\n\u001b[0;32m---> 28\u001b[0;31m                 \u001b[0mgraph\u001b[0m\u001b[0;34m,\u001b[0m \u001b[0mtraversedList\u001b[0m \u001b[0;34m=\u001b[0m \u001b[0mspread\u001b[0m\u001b[0;34m(\u001b[0m\u001b[0mword\u001b[0m\u001b[0;34m=\u001b[0m\u001b[0mtotraverse\u001b[0m\u001b[0;34m[\u001b[0m\u001b[0;34m'term'\u001b[0m\u001b[0;34m]\u001b[0m\u001b[0;34m,\u001b[0m \u001b[0mgraph\u001b[0m\u001b[0;34m=\u001b[0m\u001b[0mgraph\u001b[0m\u001b[0;34m,\u001b[0m \u001b[0mtraversedList\u001b[0m\u001b[0;34m=\u001b[0m\u001b[0mtraversedList\u001b[0m\u001b[0;34m,\u001b[0m \u001b[0mpreviousScore\u001b[0m\u001b[0;34m=\u001b[0m\u001b[0mtotraverse\u001b[0m\u001b[0;34m[\u001b[0m\u001b[0;34m'weight'\u001b[0m\u001b[0;34m]\u001b[0m\u001b[0;34m)\u001b[0m\u001b[0;34m\u001b[0m\u001b[0;34m\u001b[0m\u001b[0m\n\u001b[0m\u001b[1;32m     29\u001b[0m                 \u001b[0mprint\u001b[0m\u001b[0;34m(\u001b[0m\u001b[0;34m\"In and out\"\u001b[0m\u001b[0;34m)\u001b[0m\u001b[0;34m\u001b[0m\u001b[0;34m\u001b[0m\u001b[0m\n\u001b[1;32m     30\u001b[0m                 \u001b[0mprint\u001b[0m\u001b[0;34m(\u001b[0m\u001b[0mtraversedList\u001b[0m\u001b[0;34m)\u001b[0m\u001b[0;34m\u001b[0m\u001b[0;34m\u001b[0m\u001b[0m\n",
      "\u001b[0;32m<ipython-input-103-d4448c2efeee>\u001b[0m in \u001b[0;36mspread\u001b[0;34m(word, graph, traversedList, previousScore, weigth, decay, treshold)\u001b[0m\n\u001b[1;32m     25\u001b[0m         \u001b[0mprint\u001b[0m\u001b[0;34m(\u001b[0m\u001b[0mfutureTraversals\u001b[0m\u001b[0;34m.\u001b[0m\u001b[0mempty\u001b[0m\u001b[0;34m(\u001b[0m\u001b[0;34m)\u001b[0m\u001b[0;34m)\u001b[0m\u001b[0;34m\u001b[0m\u001b[0;34m\u001b[0m\u001b[0m\n\u001b[1;32m     26\u001b[0m         \u001b[0;32mif\u001b[0m\u001b[0;34m(\u001b[0m\u001b[0;32mnot\u001b[0m \u001b[0mfutureTraversals\u001b[0m\u001b[0;34m.\u001b[0m\u001b[0mempty\u001b[0m\u001b[0;34m(\u001b[0m\u001b[0;34m)\u001b[0m\u001b[0;34m)\u001b[0m\u001b[0;34m:\u001b[0m\u001b[0;34m\u001b[0m\u001b[0;34m\u001b[0m\u001b[0m\n\u001b[0;32m---> 27\u001b[0;31m             \u001b[0;32mfor\u001b[0m \u001b[0mtotraverse\u001b[0m \u001b[0;32min\u001b[0m \u001b[0miter\u001b[0m\u001b[0;34m(\u001b[0m\u001b[0mfutureTraversals\u001b[0m\u001b[0;34m.\u001b[0m\u001b[0mget\u001b[0m\u001b[0;34m,\u001b[0m \u001b[0;32mNone\u001b[0m\u001b[0;34m)\u001b[0m\u001b[0;34m:\u001b[0m\u001b[0;34m\u001b[0m\u001b[0;34m\u001b[0m\u001b[0m\n\u001b[0m\u001b[1;32m     28\u001b[0m                 \u001b[0mgraph\u001b[0m\u001b[0;34m,\u001b[0m \u001b[0mtraversedList\u001b[0m \u001b[0;34m=\u001b[0m \u001b[0mspread\u001b[0m\u001b[0;34m(\u001b[0m\u001b[0mword\u001b[0m\u001b[0;34m=\u001b[0m\u001b[0mtotraverse\u001b[0m\u001b[0;34m[\u001b[0m\u001b[0;34m'term'\u001b[0m\u001b[0;34m]\u001b[0m\u001b[0;34m,\u001b[0m \u001b[0mgraph\u001b[0m\u001b[0;34m=\u001b[0m\u001b[0mgraph\u001b[0m\u001b[0;34m,\u001b[0m \u001b[0mtraversedList\u001b[0m\u001b[0;34m=\u001b[0m\u001b[0mtraversedList\u001b[0m\u001b[0;34m,\u001b[0m \u001b[0mpreviousScore\u001b[0m\u001b[0;34m=\u001b[0m\u001b[0mtotraverse\u001b[0m\u001b[0;34m[\u001b[0m\u001b[0;34m'weight'\u001b[0m\u001b[0;34m]\u001b[0m\u001b[0;34m)\u001b[0m\u001b[0;34m\u001b[0m\u001b[0;34m\u001b[0m\u001b[0m\n\u001b[1;32m     29\u001b[0m                 \u001b[0mprint\u001b[0m\u001b[0;34m(\u001b[0m\u001b[0;34m\"In and out\"\u001b[0m\u001b[0;34m)\u001b[0m\u001b[0;34m\u001b[0m\u001b[0;34m\u001b[0m\u001b[0m\n",
      "\u001b[0;32m/usr/lib/python3.6/queue.py\u001b[0m in \u001b[0;36mget\u001b[0;34m(self, block, timeout)\u001b[0m\n\u001b[1;32m    162\u001b[0m             \u001b[0;32melif\u001b[0m \u001b[0mtimeout\u001b[0m \u001b[0;32mis\u001b[0m \u001b[0;32mNone\u001b[0m\u001b[0;34m:\u001b[0m\u001b[0;34m\u001b[0m\u001b[0;34m\u001b[0m\u001b[0m\n\u001b[1;32m    163\u001b[0m                 \u001b[0;32mwhile\u001b[0m \u001b[0;32mnot\u001b[0m \u001b[0mself\u001b[0m\u001b[0;34m.\u001b[0m\u001b[0m_qsize\u001b[0m\u001b[0;34m(\u001b[0m\u001b[0;34m)\u001b[0m\u001b[0;34m:\u001b[0m\u001b[0;34m\u001b[0m\u001b[0;34m\u001b[0m\u001b[0m\n\u001b[0;32m--> 164\u001b[0;31m                     \u001b[0mself\u001b[0m\u001b[0;34m.\u001b[0m\u001b[0mnot_empty\u001b[0m\u001b[0;34m.\u001b[0m\u001b[0mwait\u001b[0m\u001b[0;34m(\u001b[0m\u001b[0;34m)\u001b[0m\u001b[0;34m\u001b[0m\u001b[0;34m\u001b[0m\u001b[0m\n\u001b[0m\u001b[1;32m    165\u001b[0m             \u001b[0;32melif\u001b[0m \u001b[0mtimeout\u001b[0m \u001b[0;34m<\u001b[0m \u001b[0;36m0\u001b[0m\u001b[0;34m:\u001b[0m\u001b[0;34m\u001b[0m\u001b[0;34m\u001b[0m\u001b[0m\n\u001b[1;32m    166\u001b[0m                 \u001b[0;32mraise\u001b[0m \u001b[0mValueError\u001b[0m\u001b[0;34m(\u001b[0m\u001b[0;34m\"'timeout' must be a non-negative number\"\u001b[0m\u001b[0;34m)\u001b[0m\u001b[0;34m\u001b[0m\u001b[0;34m\u001b[0m\u001b[0m\n",
      "\u001b[0;32m/usr/lib/python3.6/threading.py\u001b[0m in \u001b[0;36mwait\u001b[0;34m(self, timeout)\u001b[0m\n\u001b[1;32m    293\u001b[0m         \u001b[0;32mtry\u001b[0m\u001b[0;34m:\u001b[0m    \u001b[0;31m# restore state no matter what (e.g., KeyboardInterrupt)\u001b[0m\u001b[0;34m\u001b[0m\u001b[0;34m\u001b[0m\u001b[0m\n\u001b[1;32m    294\u001b[0m             \u001b[0;32mif\u001b[0m \u001b[0mtimeout\u001b[0m \u001b[0;32mis\u001b[0m \u001b[0;32mNone\u001b[0m\u001b[0;34m:\u001b[0m\u001b[0;34m\u001b[0m\u001b[0;34m\u001b[0m\u001b[0m\n\u001b[0;32m--> 295\u001b[0;31m                 \u001b[0mwaiter\u001b[0m\u001b[0;34m.\u001b[0m\u001b[0macquire\u001b[0m\u001b[0;34m(\u001b[0m\u001b[0;34m)\u001b[0m\u001b[0;34m\u001b[0m\u001b[0;34m\u001b[0m\u001b[0m\n\u001b[0m\u001b[1;32m    296\u001b[0m                 \u001b[0mgotit\u001b[0m \u001b[0;34m=\u001b[0m \u001b[0;32mTrue\u001b[0m\u001b[0;34m\u001b[0m\u001b[0;34m\u001b[0m\u001b[0m\n\u001b[1;32m    297\u001b[0m             \u001b[0;32melse\u001b[0m\u001b[0;34m:\u001b[0m\u001b[0;34m\u001b[0m\u001b[0;34m\u001b[0m\u001b[0m\n",
      "\u001b[0;31mKeyboardInterrupt\u001b[0m: "
     ]
    }
   ],
   "source": [
    "#%%pixie_debugger\n",
    "g2 = graph\n",
    "g2 = processSent(\"Vaca está bezerro sede\", g2)\n",
    "print(g2['vaca'])"
   ]
  },
  {
   "cell_type": "code",
   "execution_count": null,
   "metadata": {},
   "outputs": [],
   "source": []
  }
 ],
 "metadata": {
  "kernelspec": {
   "display_name": "Python 3",
   "language": "python",
   "name": "python3"
  },
  "language_info": {
   "codemirror_mode": {
    "name": "ipython",
    "version": 3
   },
   "file_extension": ".py",
   "mimetype": "text/x-python",
   "name": "python",
   "nbconvert_exporter": "python",
   "pygments_lexer": "ipython3",
   "version": "3.6.7"
  }
 },
 "nbformat": 4,
 "nbformat_minor": 2
}
