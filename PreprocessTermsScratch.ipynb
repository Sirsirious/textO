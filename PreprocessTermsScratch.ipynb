{
 "cells": [
  {
   "cell_type": "code",
   "execution_count": 55,
   "metadata": {},
   "outputs": [],
   "source": [
    "from sklearn.feature_extraction.text import TfidfVectorizer\n",
    "from nltk.corpus.reader import PlaintextCorpusReader\n",
    "from nltk.corpus import stopwords\n",
    "from nltk.stem import rslp\n",
    "from six import string_types\n",
    "import numpy as np\n",
    "import os\n",
    "import string\n",
    "import nltk\n"
   ]
  },
  {
   "cell_type": "code",
   "execution_count": null,
   "metadata": {},
   "outputs": [],
   "source": [
    "my_corpus = PlaintextCorpusReader('data/Raw/quinhentasCorpus/',r'.*')\n",
    "#my_corpus.fileids() # <- I expect values from column ID\n",
    "#my_corpus.words() # <- I expect values from column TITLE and BODY\n",
    "#my_corpus.sents() # <- I expect values from column TITLE and BODY\n",
    "\n",
    "raw_dict = set([word.lower() for word in my_corpus.words() if (word.isalpha() and (word not in stopwords.words('portuguese')))])\n",
    "print(raw_dict)"
   ]
  },
  {
   "cell_type": "code",
   "execution_count": 22,
   "metadata": {},
   "outputs": [],
   "source": [
    "stemmer = rslp.RSLPStemmer()\n",
    "stemmed_dict = set([stemmer.stem(word) for word in raw_dict])"
   ]
  },
  {
   "cell_type": "code",
   "execution_count": 26,
   "metadata": {},
   "outputs": [],
   "source": [
    "def tokenize(text):\n",
    "    tokens = nltk.word_tokenize(text)\n",
    "    stems=[]\n",
    "    for item in tokens:\n",
    "        stems.append(rslp.RSLPStemmer().stem(item))\n",
    "    return stems"
   ]
  },
  {
   "cell_type": "code",
   "execution_count": 35,
   "metadata": {},
   "outputs": [],
   "source": [
    "token_dict={}\n",
    "path = 'data/Raw/quinhentasCorpus/'\n",
    "\n",
    "for dirpath, dirs, files in os.walk(path):\n",
    "    for f in files:\n",
    "        fname = os.path.join(dirpath, f)\n",
    "        with open(fname) as pearl:\n",
    "            text = pearl.read()\n",
    "            token_dict[f] = text.lower().translate(str.maketrans('','', string.punctuation))\n",
    "\n",
    "tfidf = TfidfVectorizer(tokenizer=tokenize, stop_words=stopwords.words('portuguese'))\n",
    "tfs = tfidf.fit_transform(token_dict.values())"
   ]
  },
  {
   "cell_type": "code",
   "execution_count": 52,
   "metadata": {},
   "outputs": [],
   "source": [
    "vocabulary = set()\n",
    "for file_id in my_corpus.fileids():\n",
    "    words = tokenize(my_corpus.raw(file_id))\n",
    "    vocabulary.update(words)\n",
    "\n",
    "vocabulary = list(vocabulary)\n",
    "word_index= {w: idx for idx, w in enumerate(vocabulary)}\n",
    "\n",
    "VOCABULARY_SIZE=len(vocabulary)\n",
    "DOCUMENTS_COUNT=len(my_corpus.fileids())"
   ]
  },
  {
   "cell_type": "code",
   "execution_count": 54,
   "metadata": {},
   "outputs": [
    {
     "name": "stdout",
     "output_type": "stream",
     "text": [
      "1.3823023398503531\n"
     ]
    }
   ],
   "source": [
    "word_idf = np.zeros(VOCABULARY_SIZE)\n",
    "for file_id in my_corpus.fileids():\n",
    "    words=set(tokenize(my_corpus.raw(file_id)))\n",
    "    indexes = [word_index[word] for word in words]\n",
    "    word_idf[indexes]+=1.0\n",
    "\n",
    "word_idf=np.log(DOCUMENTS_COUNT/(1+word_idf).astype(float))\n",
    "print(word_idf[word_index['vac']])"
   ]
  },
  {
   "cell_type": "code",
   "execution_count": 62,
   "metadata": {},
   "outputs": [],
   "source": [
    "def word_tf(word, document):\n",
    "    if isinstance(document, string_types):\n",
    "        document = tokenize(document)\n",
    "    \n",
    "    return float(document.count(word))/len(document)\n"
   ]
  },
  {
   "cell_type": "code",
   "execution_count": 60,
   "metadata": {},
   "outputs": [],
   "source": [
    "def tf_idf(word, document):\n",
    "    if isinstance(document, string_types):\n",
    "        document = tokenize(document)\n",
    "    \n",
    "    if word not in word_index:\n",
    "        return .0\n",
    "    \n",
    "    return word_tf(word, document)*word_idf[word_index[word]]"
   ]
  },
  {
   "cell_type": "code",
   "execution_count": 95,
   "metadata": {},
   "outputs": [
    {
     "data": {
      "text/plain": [
       "0.0"
      ]
     },
     "execution_count": 95,
     "metadata": {},
     "output_type": "execute_result"
    }
   ],
   "source": [
    "tf_idf('bezerros',my_corpus.raw(my_corpus.fileids()[1]))"
   ]
  },
  {
   "cell_type": "code",
   "execution_count": 97,
   "metadata": {},
   "outputs": [],
   "source": [
    "from gensim.models import TfidfModel\n",
    "from gensim.corpora import Dictionary\n",
    "\n",
    "documents = [tokenize(my_corpus.raw(file_id)) for file_id in my_corpus.fileids()]\n",
    "dictionary = Dictionary(documents)\n",
    "\n",
    "tfidf_model = TfidfModel([dictionary.doc2bow(d) for d in documents], id2word = dictionary)\n",
    "#tfidf_values = dict(tfidf_model[dictionary.doc2bow(tokenize(my_corpus.raw))])"
   ]
  }
 ],
 "metadata": {
  "kernelspec": {
   "display_name": "Python 3",
   "language": "python",
   "name": "python3"
  },
  "language_info": {
   "codemirror_mode": {
    "name": "ipython",
    "version": 3
   },
   "file_extension": ".py",
   "mimetype": "text/x-python",
   "name": "python",
   "nbconvert_exporter": "python",
   "pygments_lexer": "ipython3",
   "version": "3.6.7"
  }
 },
 "nbformat": 4,
 "nbformat_minor": 2
}
