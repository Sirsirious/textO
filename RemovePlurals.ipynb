{
 "cells": [
  {
   "cell_type": "code",
   "execution_count": 23,
   "metadata": {},
   "outputs": [
    {
     "name": "stdout",
     "output_type": "stream",
     "text": [
      "        Unnamed: 0        value\n",
      "count  2200.000000  2200.000000\n",
      "mean   2805.383636     7.580455\n",
      "std    1483.064056    16.417387\n",
      "min       0.000000     3.000000\n",
      "25%    1604.250000     3.000000\n",
      "50%    3096.000000     4.000000\n",
      "75%    4038.250000     6.000000\n",
      "max    4999.000000   417.000000\n"
     ]
    }
   ],
   "source": [
    "import pandas as pd\n",
    "from nltk.stem import *\n",
    "\n",
    "stemmer = RSLPStemmer()\n",
    "\n",
    "df = pd.read_csv('data/2018-11-13-Treatd/5knoduplicates.csv')\n",
    "#df.set_index(df.columns[0])\n",
    "print(df.describe())\n",
    "\n",
    "for index, row in df.iterrows():\n",
    "    first = stemmer.stem(row['term1'].strip())\n",
    "    second = stemmer.stem(row['term2'].strip())\n",
    "    if(first== second):\n",
    "        df.drop(index, inplace=True)\n",
    "df.describe()\n",
    "df.to_csv('data/2018-11-13-Treatd/5knoduplicatesNoplurals.csv')"
   ]
  }
 ],
 "metadata": {
  "kernelspec": {
   "display_name": "Python 3",
   "language": "python",
   "name": "python3"
  },
  "language_info": {
   "codemirror_mode": {
    "name": "ipython",
    "version": 3
   },
   "file_extension": ".py",
   "mimetype": "text/x-python",
   "name": "python",
   "nbconvert_exporter": "python",
   "pygments_lexer": "ipython3",
   "version": "3.6.6"
  }
 },
 "nbformat": 4,
 "nbformat_minor": 2
}
