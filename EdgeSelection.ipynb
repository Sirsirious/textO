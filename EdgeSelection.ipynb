{
 "cells": [
  {
   "cell_type": "code",
   "execution_count": 6,
   "metadata": {},
   "outputs": [
    {
     "name": "stdout",
     "output_type": "stream",
     "text": [
      "\u001b[0m\u001b[01;34m2018-10-11-Treatd\u001b[0m/       MappedRelations.csv        twoColumnsOrdered.csv\r\n",
      "fixedLenght.csv          OriginalLemmatizedRel.csv\r\n",
      "\u001b[01;34mgraphBackup20181011.db\u001b[0m/  twoColumns.csv\r\n"
     ]
    }
   ],
   "source": [
    "%ls data/"
   ]
  },
  {
   "cell_type": "code",
   "execution_count": 2,
   "metadata": {},
   "outputs": [
    {
     "name": "stdout",
     "output_type": "stream",
     "text": [
      "Empty DataFrame\n",
      "Columns: [term1, term2]\n",
      "Index: []\n",
      "   Unnamed: 0   term1    term2  value\n",
      "0           1    sede   animal    254\n",
      "1           2    sede     vaca    245\n",
      "2           3  máximo   grande    210\n",
      "3           5    sede      bom    166\n",
      "4           6    sede   grande    135\n",
      "   Unnamed: 0     term1    term2   relation\n",
      "0           0   animais   animal     FormOf\n",
      "1           0   animais   animal  RelatedTo\n",
      "2           0   bezerra  bezerro  RelatedTo\n",
      "3           0  minerais  mineral    Synonym\n",
      "4           0  espécies  espécie     FormOf\n",
      "   Unnamed: 0   term1    term2  value\n",
      "0           1    sede   animal    254\n",
      "1           2    sede     vaca    245\n",
      "2           3  máximo   grande    210\n",
      "3           5    sede      bom    166\n",
      "4           6    sede   grande    135\n",
      "   Unnamed: 0   term1    term2  value\n",
      "0           1    sede   animal    254\n",
      "1           2    sede     vaca    245\n",
      "2           3  máximo   grande    210\n",
      "3           5    sede      bom    166\n",
      "4           6    sede   grande    135\n"
     ]
    }
   ],
   "source": [
    "import pandas as pd\n",
    "import matplotlib.pyplot as plt\n",
    "import networkx as nx\n",
    "from ipywidgets import interact, interactive, fixed, interact_manual\n",
    "import ipywidgets as widgets\n",
    "\n",
    "relations = pd.read_csv('data/MappedRelations.csv')\n",
    "relations = relations['relation']\n",
    "\n",
    "mr = pd.read_csv('data/MappedRelations.csv')\n",
    "tte = pd.read_csv('data/UnmappedRelations.csv')\n",
    "dt = pd.read_csv('data/DiscardedTerms.csv')\n",
    "\n",
    "print(dt.head())\n",
    "print(tte.head())\n",
    "print(mr.head())\n",
    "\n",
    "work_set = tte[(~tte['term1'].isin(mr['term1']) & ~tte['term2'].isin(mr['term2']))]\n",
    "print(work_set.head())\n",
    "work_set = work_set[~work_set['term1'].isin(dt['term1']) & ~work_set['term2'].isin(dt['term2'])]\n",
    "print(work_set.head())"
   ]
  },
  {
   "cell_type": "code",
   "execution_count": null,
   "metadata": {},
   "outputs": [],
   "source": [
    "\n",
    "    def findRelations(row):\n",
    "        term1 = row[1][1]\n",
    "        sel = widgets.Dropdown[relations.tolist()]\n",
    "        term2 = row[1][3]\n",
    "        while true:\n",
    "            if sel.value:\n",
    "                break\n",
    "            ctx.step()"
   ]
  },
  {
   "cell_type": "code",
   "execution_count": 18,
   "metadata": {},
   "outputs": [],
   "source": [
    "def relation(x):\n",
    "    return x"
   ]
  },
  {
   "cell_type": "code",
   "execution_count": 24,
   "metadata": {
    "scrolled": false
   },
   "outputs": [
    {
     "ename": "TypeError",
     "evalue": "'MetaHasTraits' object is not subscriptable",
     "output_type": "error",
     "traceback": [
      "\u001b[0;31m---------------------------------------------------------------------------\u001b[0m",
      "\u001b[0;31mTypeError\u001b[0m                                 Traceback (most recent call last)",
      "\u001b[0;32m<ipython-input-23-f319e7811d12>\u001b[0m in \u001b[0;36m<module>\u001b[0;34m\u001b[0m\n\u001b[1;32m      5\u001b[0m \u001b[0;32mwith\u001b[0m \u001b[0mctx\u001b[0m\u001b[0;34m:\u001b[0m\u001b[0;34m\u001b[0m\u001b[0m\n\u001b[1;32m      6\u001b[0m     \u001b[0;32mfor\u001b[0m \u001b[0mrow\u001b[0m \u001b[0;32min\u001b[0m \u001b[0mwork_set\u001b[0m\u001b[0;34m.\u001b[0m\u001b[0miterrows\u001b[0m\u001b[0;34m(\u001b[0m\u001b[0;34m)\u001b[0m\u001b[0;34m:\u001b[0m\u001b[0;34m\u001b[0m\u001b[0m\n\u001b[0;32m----> 7\u001b[0;31m         \u001b[0mfindRelations\u001b[0m\u001b[0;34m(\u001b[0m\u001b[0mrow\u001b[0m\u001b[0;34m)\u001b[0m\u001b[0;34m\u001b[0m\u001b[0m\n\u001b[0m\u001b[1;32m      8\u001b[0m \u001b[0;34m\u001b[0m\u001b[0m\n",
      "\u001b[0;32mcell_name\u001b[0m in \u001b[0;36mfindRelations\u001b[0;34m(row)\u001b[0m\n",
      "\u001b[0;31mTypeError\u001b[0m: 'MetaHasTraits' object is not subscriptable"
     ]
    }
   ],
   "source": [
    "import ipython_blocking\n",
    "\n",
    "ctx = ipython_blocking.CaptureExecution()\n",
    "\n",
    "with ctx:\n",
    "    for row in work_set.iterrows():\n",
    "        findRelations(row)\n",
    "    "
   ]
  }
 ],
 "metadata": {
  "kernelspec": {
   "display_name": "Python 3",
   "language": "python",
   "name": "python3"
  }
 },
 "nbformat": 4,
 "nbformat_minor": 2
}
