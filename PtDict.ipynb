{
 "cells": [
  {
   "cell_type": "code",
   "execution_count": 13,
   "metadata": {},
   "outputs": [],
   "source": [
    "def getDictEntry(word, dictionary, dicio):\n",
    "    try: \n",
    "        w = dicio.search(word)\n",
    "        d = dict()\n",
    "        d[word] = dict()\n",
    "        d[word]['root']=w.root\n",
    "        d[word]['pos']=w.pos\n",
    "        d[word]['synonyms']= w.synonyms\n",
    "        dictionary.update(d)\n",
    "        del d\n",
    "        del w\n",
    "    except:\n",
    "        print(\"Unexpected error:\", sys.exc_info()[0])\n",
    "\n"
   ]
  },
  {
   "cell_type": "code",
   "execution_count": null,
   "metadata": {
    "scrolled": true
   },
   "outputs": [],
   "source": [
    "from multiprocessing import Manager, Pool\n",
    "from itertools import repeat\n",
    "import pandas as pd\n",
    "from dicio import Dicio\n",
    "dicio = Dicio()\n",
    "#Parallel Data Structures \n",
    "manager = Manager()\n",
    "#Ensure access to parallel modules, lock is used to deal with mess\n",
    "global dictionary\n",
    "words = pd.read_csv('data/SupportingStructures/portuguese.csv', sep=';')\n",
    "dictionary = manager.dict()\n",
    "#pool = Pool(100)\n",
    "words = [w['palavra'] for idx, w in words.iterrows()]\n",
    "with Pool(50) as pool:\n",
    "    pool.starmap(getDictEntry, zip(words, repeat(dictionary), repeat(dicio)))\n",
    "    "
   ]
  },
  {
   "cell_type": "code",
   "execution_count": null,
   "metadata": {},
   "outputs": [],
   "source": [
    "len(dictionary)"
   ]
  }
 ],
 "metadata": {
  "kernelspec": {
   "display_name": "Python 3",
   "language": "python",
   "name": "python3"
  }
 },
 "nbformat": 4,
 "nbformat_minor": 2
}
