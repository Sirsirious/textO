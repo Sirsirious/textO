{
 "cells": [
  {
   "cell_type": "code",
   "execution_count": 12,
   "metadata": {},
   "outputs": [],
   "source": [
    "import pandas as pd\n",
    "from nltk.corpus import PlaintextCorpusReader\n",
    "\n",
    "\n",
    "perg = pd.read_csv('data/2018-12-18-Treatd/quinhentas_perguntas.csv')\n",
    "resp = pd.read_csv('data/2018-12-18-Treatd/quinhentas_respostas.csv')\n",
    "perg.set_index('index', inplace=True)\n",
    "resp.set_index('index', inplace=True)\n",
    "\n"
   ]
  },
  {
   "cell_type": "code",
   "execution_count": 24,
   "metadata": {},
   "outputs": [],
   "source": [
    "def CreateCorpusFromDataFrame(corpusfolder, df):\n",
    "    isporisr = 'pergunta' if('pergunta' in list(df.columns.values)) else 'resposta'\n",
    "    for index, r in df.iterrows():\n",
    "        id=index\n",
    "        body=r[isporisr]\n",
    "        category=isporisr\n",
    "        fname=str(category)+\"_\"+str(id)+\".txt\"\n",
    "        corpusfile=open(corpusfolder+'/'+fname, 'a')\n",
    "        corpusfile.write(str(body))\n",
    "        corpusfile.close()\n",
    "\n",
    "CreateCorpusFromDataFrame('data/Raw/quinhentasCorpus/',perg)\n",
    "CreateCorpusFromDataFrame('data/Raw/quinhentasCorpus/',resp)"
   ]
  }
 ],
 "metadata": {
  "kernelspec": {
   "display_name": "Python 3",
   "language": "python",
   "name": "python3"
  },
  "language_info": {
   "codemirror_mode": {
    "name": "ipython",
    "version": 3
   },
   "file_extension": ".py",
   "mimetype": "text/x-python",
   "name": "python",
   "nbconvert_exporter": "python",
   "pygments_lexer": "ipython3",
   "version": "3.6.7"
  }
 },
 "nbformat": 4,
 "nbformat_minor": 2
}
