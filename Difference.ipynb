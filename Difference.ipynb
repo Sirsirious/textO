{
 "cells": [
  {
   "cell_type": "code",
   "execution_count": 2,
   "metadata": {},
   "outputs": [
    {
     "name": "stdout",
     "output_type": "stream",
     "text": [
      "ConceptNetAssesser.py  DataTreatment.py      README.md\r\n",
      "csvLoader.py           Diffrence.ipynb       \u001b[0m\u001b[01;34msimpleTextFunctions\u001b[0m/\r\n",
      "\u001b[01;34mdata\u001b[0m/                  EdgeSelection.ipynb   \u001b[01;34mtextParsing\u001b[0m/\r\n",
      "\u001b[01;34mdataAccess\u001b[0m/            \u001b[01;34mgramaticalFunctions\u001b[0m/\r\n"
     ]
    }
   ],
   "source": [
    "%ls"
   ]
  },
  {
   "cell_type": "code",
   "execution_count": 44,
   "metadata": {},
   "outputs": [],
   "source": [
    "import pandas as pd\n",
    "\n",
    "df1 = pd.read_csv('data/MappedRelations.csv')\n",
    "df1=df1[['term1','term2']]\n",
    "df2 = pd.read_csv('data/twoColumnsOrdered.csv')\n",
    "#df2=df2[['term1','term2']]\n",
    "df2=df2[~df2['term1'].isin(df1['term1']) & ~df2['term2'].isin(df1['term2'])]\n",
    "#print(df2[~df2['term1'].isin(df1['term1'])])\n",
    "#print(df2)\n",
    "df2.to_csv('data/UnmappedRelations.csv')"
   ]
  }
 ],
 "metadata": {
  "kernelspec": {
   "display_name": "Python 3",
   "language": "python",
   "name": "python3"
  },
  "language_info": {
   "codemirror_mode": {
    "name": "ipython",
    "version": 3
   },
   "file_extension": ".py",
   "mimetype": "text/x-python",
   "name": "python",
   "nbconvert_exporter": "python",
   "pygments_lexer": "ipython3",
   "version": "3.6.6"
  }
 },
 "nbformat": 4,
 "nbformat_minor": 2
}
